{
 "cells": [
  {
   "cell_type": "markdown",
   "metadata": {},
   "source": [
    "# Lesson 5: Vacation planning using CSV files\n",
    "\n",
    "In this lesson you'll learn to read in and work with data stored in CSV format. Data of this type looks like a table with rows and columns, and is referred to by programmers as **structured data**.\n",
    "\n",
    "As always, begin by loading the helper functions you'll use:"
   ]
  },
  {
   "cell_type": "code",
   "execution_count": 32,
   "metadata": {
    "height": 99
   },
   "outputs": [],
   "source": [
    "# Imports\n",
    "from helper_functions import get_llm_response, print_llm_response, display_table\n",
    "from IPython.display import Markdown\n",
    "import csv"
   ]
  },
  {
   "cell_type": "markdown",
   "metadata": {},
   "source": [
    "Note that `import csv` here is new. Don't worry about the details for now, but this line of code will be used later to read in CSV data. You'll learn more about this code in Course 4."
   ]
  },
  {
   "cell_type": "markdown",
   "metadata": {},
   "source": [
    "## Loading data from a CSV file"
   ]
  },
  {
   "cell_type": "markdown",
   "metadata": {},
   "source": [
    "You'll use the file ```itinerary.csv```, which has information about arrival and departure dates for each destination in a trip around the world.\n",
    "\n",
    "Here is the code to load the file - the first part is the same as you've been using up to this point:"
   ]
  },
  {
   "cell_type": "code",
   "execution_count": 33,
   "metadata": {
    "height": 30
   },
   "outputs": [],
   "source": [
    "f = open(\"itinerary.csv\", 'r')"
   ]
  },
  {
   "cell_type": "markdown",
   "metadata": {},
   "source": [
    "The next part, where you read the data in from the file, is different because you are now reading in a CSV file:"
   ]
  },
  {
   "cell_type": "code",
   "execution_count": 34,
   "metadata": {
    "height": 98
   },
   "outputs": [
    {
     "name": "stdout",
     "output_type": "stream",
     "text": [
      "{'Arrival': 'July-01', 'Departure': 'July-08', 'City': 'New York', 'Country': 'USA'}\n",
      "{'Arrival': 'July-09', 'Departure': 'July-16', 'City': 'Rio de Janeiro', 'Country': 'Brazil'}\n",
      "{'Arrival': 'July-17', 'Departure': 'July-24', 'City': 'Cape Town', 'Country': 'South Africa'}\n",
      "{'Arrival': 'July-25', 'Departure': 'August-01', 'City': 'Istanbul', 'Country': 'Turkey'}\n",
      "{'Arrival': 'August-02', 'Departure': 'August-09', 'City': 'Paris', 'Country': 'France'}\n",
      "{'Arrival': 'August-10', 'Departure': 'August-17', 'City': 'Tokyo', 'Country': 'Japan'}\n",
      "{'Arrival': 'August-18', 'Departure': 'August-25', 'City': 'Sydney', 'Country': 'Australia'}\n"
     ]
    }
   ],
   "source": [
    "csv_reader = csv.DictReader(f)\n",
    "itinerary = []\n",
    "for row in csv_reader:\n",
    "    print(row)\n",
    "    itinerary.append(row)"
   ]
  },
  {
   "cell_type": "markdown",
   "metadata": {},
   "source": [
    "Now close the file:"
   ]
  },
  {
   "cell_type": "code",
   "execution_count": null,
   "metadata": {
    "height": 30
   },
   "outputs": [],
   "source": [
    "f.close()"
   ]
  },
  {
   "cell_type": "markdown",
   "metadata": {},
   "source": [
    "You can print the itinerary to view it's content and use the `type` function to check the datatype:"
   ]
  },
  {
   "cell_type": "code",
   "execution_count": 35,
   "metadata": {
    "height": 30
   },
   "outputs": [
    {
     "name": "stdout",
     "output_type": "stream",
     "text": [
      "[{'Arrival': 'July-01', 'Departure': 'July-08', 'City': 'New York', 'Country': 'USA'}, {'Arrival': 'July-09', 'Departure': 'July-16', 'City': 'Rio de Janeiro', 'Country': 'Brazil'}, {'Arrival': 'July-17', 'Departure': 'July-24', 'City': 'Cape Town', 'Country': 'South Africa'}, {'Arrival': 'July-25', 'Departure': 'August-01', 'City': 'Istanbul', 'Country': 'Turkey'}, {'Arrival': 'August-02', 'Departure': 'August-09', 'City': 'Paris', 'Country': 'France'}, {'Arrival': 'August-10', 'Departure': 'August-17', 'City': 'Tokyo', 'Country': 'Japan'}, {'Arrival': 'August-18', 'Departure': 'August-25', 'City': 'Sydney', 'Country': 'Australia'}]\n"
     ]
    }
   ],
   "source": [
    "print(itinerary)"
   ]
  },
  {
   "cell_type": "code",
   "execution_count": null,
   "metadata": {
    "height": 30
   },
   "outputs": [],
   "source": [
    "type(itinerary)"
   ]
  },
  {
   "cell_type": "markdown",
   "metadata": {},
   "source": [
    "Now take a look at the first item\n",
    "* Remember the first item in a list has index 0"
   ]
  },
  {
   "cell_type": "code",
   "execution_count": 36,
   "metadata": {
    "height": 47
   },
   "outputs": [
    {
     "name": "stdout",
     "output_type": "stream",
     "text": [
      "{'Arrival': 'July-01', 'Departure': 'July-08', 'City': 'New York', 'Country': 'USA'}\n"
     ]
    }
   ],
   "source": [
    "# Print item 0 \n",
    "print(itinerary[0])"
   ]
  },
  {
   "cell_type": "markdown",
   "metadata": {},
   "source": [
    "This is a dictionary. You can access a particular value by passing in the key - let's look at the `Country` value in the first row of the itinerary:"
   ]
  },
  {
   "cell_type": "code",
   "execution_count": 37,
   "metadata": {
    "height": 30
   },
   "outputs": [
    {
     "name": "stdout",
     "output_type": "stream",
     "text": [
      "USA\n"
     ]
    }
   ],
   "source": [
    "print(itinerary[0][\"Country\"])"
   ]
  },
  {
   "cell_type": "markdown",
   "metadata": {},
   "source": [
    "## Try for yourself!\n",
    "\n",
    "Pause the video and explore other rows in the itinerary list, or individual items in any destination. Modify the code below to explore this world tour!"
   ]
  },
  {
   "cell_type": "code",
   "execution_count": 38,
   "metadata": {
    "height": 47
   },
   "outputs": [
    {
     "name": "stdout",
     "output_type": "stream",
     "text": [
      "{'Arrival': 'July-01', 'Departure': 'July-08', 'City': 'New York', 'Country': 'USA'}\n",
      "USA\n"
     ]
    }
   ],
   "source": [
    "print(itinerary[0])\n",
    "print(itinerary[0][\"Country\"])"
   ]
  },
  {
   "cell_type": "markdown",
   "metadata": {},
   "source": [
    "<p style=\"background-color:#F5C780; padding:15px\"> 🤖 <b>Use the Chatbot</b>:\n",
    "    <br><br>\n",
    "    Explain this code line by line:\n",
    "    <br><br>f = open(\"itinerary.csv\", 'r')\n",
    "    <br>csv_reader = csv.DictReader(f)\n",
    "    <br>itinerary = []\n",
    "    <br>for row in csv_reader:\n",
    "    <br>itinerary.append(row)\n",
    "    <br><br>f.close()\n",
    "</p>"
   ]
  },
  {
   "cell_type": "markdown",
   "metadata": {},
   "source": [
    "## Structured Data"
   ]
  },
  {
   "cell_type": "markdown",
   "metadata": {},
   "source": [
    "Let's visualize this itinerary in a more readable way.\n",
    "\n",
    "* Use the ```display_table``` helper function:"
   ]
  },
  {
   "cell_type": "code",
   "execution_count": 39,
   "metadata": {
    "height": 30
   },
   "outputs": [
    {
     "data": {
      "text/html": [
       "<table border=\"1\" class=\"dataframe\">\n",
       "  <thead>\n",
       "    <tr style=\"text-align: right;\">\n",
       "      <th>Arrival</th>\n",
       "      <th>Departure</th>\n",
       "      <th>City</th>\n",
       "      <th>Country</th>\n",
       "    </tr>\n",
       "  </thead>\n",
       "  <tbody>\n",
       "    <tr>\n",
       "      <td>July-01</td>\n",
       "      <td>July-08</td>\n",
       "      <td>New York</td>\n",
       "      <td>USA</td>\n",
       "    </tr>\n",
       "    <tr>\n",
       "      <td>July-09</td>\n",
       "      <td>July-16</td>\n",
       "      <td>Rio de Janeiro</td>\n",
       "      <td>Brazil</td>\n",
       "    </tr>\n",
       "    <tr>\n",
       "      <td>July-17</td>\n",
       "      <td>July-24</td>\n",
       "      <td>Cape Town</td>\n",
       "      <td>South Africa</td>\n",
       "    </tr>\n",
       "    <tr>\n",
       "      <td>July-25</td>\n",
       "      <td>August-01</td>\n",
       "      <td>Istanbul</td>\n",
       "      <td>Turkey</td>\n",
       "    </tr>\n",
       "    <tr>\n",
       "      <td>August-02</td>\n",
       "      <td>August-09</td>\n",
       "      <td>Paris</td>\n",
       "      <td>France</td>\n",
       "    </tr>\n",
       "    <tr>\n",
       "      <td>August-10</td>\n",
       "      <td>August-17</td>\n",
       "      <td>Tokyo</td>\n",
       "      <td>Japan</td>\n",
       "    </tr>\n",
       "    <tr>\n",
       "      <td>August-18</td>\n",
       "      <td>August-25</td>\n",
       "      <td>Sydney</td>\n",
       "      <td>Australia</td>\n",
       "    </tr>\n",
       "  </tbody>\n",
       "</table>"
      ],
      "text/plain": [
       "<IPython.core.display.HTML object>"
      ]
     },
     "metadata": {},
     "output_type": "display_data"
    }
   ],
   "source": [
    "display_table(itinerary)"
   ]
  },
  {
   "cell_type": "markdown",
   "metadata": {},
   "source": [
    "Next, write code to filter the table based on some criterion - in this case if the country is Japan - and then add the information for that stop to a new list called `filtered_data`:"
   ]
  },
  {
   "cell_type": "code",
   "execution_count": 40,
   "metadata": {
    "height": 167
   },
   "outputs": [],
   "source": [
    "# Create an empty list to store the filtered data\n",
    "filtered_data = []\n",
    "\n",
    "# Filter by country\n",
    "for trip_stop in itinerary:\n",
    "    # For example: get the destinations located in \"Japan\"\n",
    "    if trip_stop[\"Country\"] == \"Japan\":\n",
    "        filtered_data.append(trip_stop)"
   ]
  },
  {
   "cell_type": "code",
   "execution_count": 41,
   "metadata": {
    "height": 30
   },
   "outputs": [
    {
     "data": {
      "text/html": [
       "<table border=\"1\" class=\"dataframe\">\n",
       "  <thead>\n",
       "    <tr style=\"text-align: right;\">\n",
       "      <th>Arrival</th>\n",
       "      <th>Departure</th>\n",
       "      <th>City</th>\n",
       "      <th>Country</th>\n",
       "    </tr>\n",
       "  </thead>\n",
       "  <tbody>\n",
       "    <tr>\n",
       "      <td>August-10</td>\n",
       "      <td>August-17</td>\n",
       "      <td>Tokyo</td>\n",
       "      <td>Japan</td>\n",
       "    </tr>\n",
       "  </tbody>\n",
       "</table>"
      ],
      "text/plain": [
       "<IPython.core.display.HTML object>"
      ]
     },
     "metadata": {},
     "output_type": "display_data"
    }
   ],
   "source": [
    "display_table(filtered_data)"
   ]
  },
  {
   "cell_type": "markdown",
   "metadata": {},
   "source": [
    "Note that the `filtered_data` variable only contains one row."
   ]
  },
  {
   "cell_type": "markdown",
   "metadata": {},
   "source": [
    "## Using AI to suggest trip activities"
   ]
  },
  {
   "cell_type": "markdown",
   "metadata": {},
   "source": [
    "Retrieve the first destination and then ask an LLM for suggestions of activities to do in that location during the dates of the visit:"
   ]
  },
  {
   "cell_type": "code",
   "execution_count": 42,
   "metadata": {
    "height": 82
   },
   "outputs": [
    {
     "name": "stdout",
     "output_type": "stream",
     "text": [
      "{'Arrival': 'July-01', 'Departure': 'July-08', 'City': 'New York', 'Country': 'USA'}\n"
     ]
    }
   ],
   "source": [
    "# Select the first destination from the itinerary list (Hint: index=0)\n",
    "trip_stop = itinerary[0]\n",
    "print(trip_stop)"
   ]
  },
  {
   "cell_type": "markdown",
   "metadata": {},
   "source": [
    "Create variables to store all the individual items from ```trip_stop```:"
   ]
  },
  {
   "cell_type": "code",
   "execution_count": 43,
   "metadata": {
    "height": 81
   },
   "outputs": [],
   "source": [
    "city = trip_stop[\"City\"]\n",
    "country = trip_stop[\"Country\"]\n",
    "arrival = trip_stop[\"Arrival\"]\n",
    "departure = trip_stop[\"Departure\"]"
   ]
  },
  {
   "cell_type": "markdown",
   "metadata": {},
   "source": [
    "Write a prompt to get activity suggestions for your trip destination:"
   ]
  },
  {
   "cell_type": "code",
   "execution_count": 44,
   "metadata": {
    "height": 99
   },
   "outputs": [
    {
     "name": "stdout",
     "output_type": "stream",
     "text": [
      "I will visit New York, USA, from July-01 to July-08. \n",
      "Please create a detailed daily itinerary.\n"
     ]
    }
   ],
   "source": [
    "prompt = f\"\"\"I will visit {city}, {country}, from {arrival} to {departure}. \n",
    "Please create a detailed daily itinerary.\"\"\"\n",
    "\n",
    "print(prompt)"
   ]
  },
  {
   "cell_type": "markdown",
   "metadata": {},
   "source": [
    "Use Markdown to display the LLM response nicely in the Jupyter notebook:"
   ]
  },
  {
   "cell_type": "code",
   "execution_count": 45,
   "metadata": {
    "height": 98
   },
   "outputs": [
    {
     "data": {
      "text/markdown": [
       "**New York City Itinerary: July 1 - July 8**\n",
       "\n",
       "**Day 1: July 1 (Saturday)**\n",
       "- **Morning:** Arrive in NYC, check into your hotel.\n",
       "- **Afternoon:** Explore Times Square; grab lunch at a nearby café.\n",
       "- **Evening:** Visit the Top of the Rock for sunset views; dinner at a restaurant in Midtown.\n",
       "\n",
       "**Day 2: July 2 (Sunday)**\n",
       "- **Morning:** Visit the Statue of Liberty and Ellis Island (book tickets in advance).\n",
       "- **Afternoon:** Explore Battery Park; lunch in the Financial District.\n",
       "- **Evening:** Walk across the Brooklyn Bridge; dinner in DUMBO with views of Manhattan.\n",
       "\n",
       "**Day 3: July 3 (Monday)**\n",
       "- **Morning:** Visit the 9/11 Memorial & Museum.\n",
       "- **Afternoon:** Explore Wall Street; lunch at a local deli.\n",
       "- **Evening:** Take a sunset cruise around Manhattan; dinner in the West Village.\n",
       "\n",
       "**Day 4: July 4 (Tuesday)**\n",
       "- **Morning:** Visit Central Park; rent a bike or take a leisurely walk.\n",
       "- **Afternoon:** Explore the Metropolitan Museum of Art (The Met).\n",
       "- **Evening:** Enjoy Independence Day fireworks (check location and time).\n",
       "\n",
       "**Day 5: July 5 (Wednesday)**\n",
       "- **Morning:** Visit the American Museum of Natural History.\n",
       "- **Afternoon:** Lunch on the Upper West Side; stroll through Central Park.\n",
       "- **Evening:** Catch a Broadway show (book tickets in advance).\n",
       "\n",
       "**Day 6: July 6 (Thursday)**\n",
       "- **Morning:** Explore the High Line and Chelsea Market for lunch.\n",
       "- **Afternoon:** Visit the Whitney Museum of American Art.\n",
       "- **Evening:** Dinner in the Meatpacking District; explore nightlife.\n",
       "\n",
       "**Day 7: July 7 (Friday)**\n",
       "- **Morning:** Visit the Museum of Modern Art (MoMA).\n",
       "- **Afternoon:** Lunch in Midtown; shop along Fifth Avenue.\n",
       "- **Evening:** Visit Rockefeller Center; enjoy dinner at a rooftop restaurant.\n",
       "\n",
       "**Day 8: July 8 (Saturday)**\n",
       "- **Morning:** Last-minute shopping or visit any missed attractions.\n",
       "- **Afternoon:** Check out of your hotel; head to the airport.\n",
       "\n",
       "**Tips:**\n",
       "- Use the subway for efficient travel.\n",
       "- Book tickets for popular attractions in advance.\n",
       "- Stay hydrated and wear comfortable shoes."
      ],
      "text/plain": [
       "<IPython.core.display.Markdown object>"
      ]
     },
     "metadata": {},
     "output_type": "display_data"
    }
   ],
   "source": [
    "# Store the LLM response\n",
    "response = get_llm_response(prompt)\n",
    "\n",
    "# Print in Markdown format\n",
    "display(Markdown(response))"
   ]
  },
  {
   "cell_type": "markdown",
   "metadata": {},
   "source": [
    "## Extra Practice\n",
    "\n",
    "In these exercises, you'll create an itinerary for another stop on the trip! \n",
    "\n",
    "### Exercise 1\n",
    "\n",
    "First, create a filtered dataset for Brazil. You'll need to update the `if` statement to select the right country. "
   ]
  },
  {
   "cell_type": "code",
   "execution_count": 46,
   "metadata": {
    "height": 218
   },
   "outputs": [
    {
     "name": "stdout",
     "output_type": "stream",
     "text": [
      "[{'Arrival': 'July-09', 'Departure': 'July-16', 'City': 'Rio de Janeiro', 'Country': 'Brazil'}]\n"
     ]
    }
   ],
   "source": [
    "# Create an empty list to store the filtered data\n",
    "filtered_data = []\n",
    "\n",
    "# Filter by country\n",
    "for trip_stop in itinerary:\n",
    "    # For example: get the destinations located in \"Brazil\"\n",
    "    # Complete code on next line:\n",
    "    if trip_stop[\"Country\"] == \"Brazil\":\n",
    "        filtered_data.append(trip_stop)\n",
    "\n",
    "print(filtered_data)"
   ]
  },
  {
   "cell_type": "markdown",
   "metadata": {},
   "source": [
    "### Exercise 2\n",
    "\n",
    "Next, update the variables to pass in the prompt to the LLM. You'll need to modify the code on the next line to select the first item from `filtered_data` rather than the whole `itinerary`."
   ]
  },
  {
   "cell_type": "code",
   "execution_count": 47,
   "metadata": {
    "height": 200
   },
   "outputs": [
    {
     "name": "stdout",
     "output_type": "stream",
     "text": [
      " The city is: Rio de Janeiro\n",
      " The country is: Brazil\n",
      " The arrival date is: {arrival}\n",
      " The departure date is: {departure}\n"
     ]
    }
   ],
   "source": [
    "trip_stop = itinerary[1]\n",
    "\n",
    "city = trip_stop[\"City\"]\n",
    "country = trip_stop[\"Country\"]\n",
    "arrival = trip_stop[\"Arrival\"]\n",
    "departure = trip_stop[\"Departure\"]\n",
    "\n",
    "print(f\" The city is: {city}\")\n",
    "print(f\" The country is: {country}\")\n",
    "print(\" The arrival date is: {arrival}\")\n",
    "print(\" The departure date is: {departure}\")"
   ]
  },
  {
   "cell_type": "markdown",
   "metadata": {},
   "source": [
    "Now, you can run the prompt to get a new itinerary!"
   ]
  },
  {
   "cell_type": "code",
   "execution_count": 48,
   "metadata": {
    "height": 99
   },
   "outputs": [
    {
     "name": "stdout",
     "output_type": "stream",
     "text": [
      "### Rio de Janeiro Itinerary (July 9 - July 16)\n",
      "\n",
      "#### Day 1: July 9 (Arrival)\n",
      "- **Morning:** Arrive in Rio de Janeiro, check into your hotel.\n",
      "- **Afternoon:** Explore Copacabana Beach; relax and enjoy the sun.\n",
      "- **Evening:** Dinner at a beachfront restaurant.\n",
      "\n",
      "#### Day 2: July 10 (Christ the Redeemer & Santa Teresa)\n",
      "- **Morning:** Visit Christ the Redeemer (early to avoid crowds).\n",
      "- **Afternoon:** Explore Santa Teresa neighborhood; visit the Selarón Steps.\n",
      "- **Evening:** Dinner at a local restaurant in Santa Teresa.\n",
      "\n",
      "#### Day 3: July 11 (Sugarloaf Mountain & Botafogo)\n",
      "- **Morning:** Take the cable car to Sugarloaf Mountain; enjoy panoramic views.\n",
      "- **Afternoon:** Stroll through Botafogo Beach and visit the shopping mall.\n",
      "- **Evening:** Dinner in Botafogo; try traditional Brazilian cuisine.\n",
      "\n",
      "#### Day 4: July 12 (Tijuca National Park)\n",
      "- **Morning:** Hike in Tijuca National Park; visit the Cascatinha Taunay waterfall.\n",
      "- **Afternoon:** Picnic in the park or lunch at a nearby restaurant.\n",
      "- **Evening:** Return to the city; relax at your hotel.\n",
      "\n",
      "#### Day 5: July 13 (Ipanema & Leblon)\n",
      "- **Morning:** Visit Ipanema Beach; enjoy the beach atmosphere.\n",
      "- **Afternoon:** Explore the shops and cafes in Ipanema and Leblon.\n",
      "- **Evening:** Dinner at a restaurant with a view of the beach.\n",
      "\n",
      "#### Day 6: July 14 (Cultural Day)\n",
      "- **Morning:** Visit the Museum of Tomorrow and the MAR (Museum of Art of Rio).\n",
      "- **Afternoon:** Explore the historic downtown area; visit the Theatro Municipal.\n",
      "- **Evening:** Enjoy a samba show or live music in Lapa.\n",
      "\n",
      "#### Day 7: July 15 (Day Trip to Petropolis)\n",
      "- **Morning:** Take a day trip to Petropolis; visit the Imperial Museum.\n",
      "- **Afternoon:** Explore the city; visit the Crystal Palace and gardens.\n",
      "- **Evening:** Return to Rio; dinner at a local steakhouse.\n",
      "\n",
      "#### Day 8: July 16 (Departure)\n",
      "- **Morning:** Last-minute shopping or beach time.\n",
      "- **Afternoon:** Check out of your hotel; head to the airport for departure.\n",
      "\n",
      "### Tips:\n",
      "- Use public transport or rideshare apps for convenience.\n",
      "- Stay hydrated and apply sunscreen, especially at the beach.\n",
      "- Check local events or festivals happening during your visit.\n"
     ]
    }
   ],
   "source": [
    "prompt = f\"\"\"I will visit {city}, {country}, from {arrival} to {departure}. \n",
    "Please create a detailed daily itinerary.\"\"\"\n",
    "\n",
    "print_llm_response(prompt)"
   ]
  },
  {
   "cell_type": "markdown",
   "metadata": {},
   "source": [
    "### Challenge exercise!\n",
    "\n",
    "Complete the code below so that it will **print out the country of every destination** in the `itinerary.csv` file. Ask the chatbot for help if you need it!"
   ]
  },
  {
   "cell_type": "code",
   "execution_count": 54,
   "metadata": {
    "height": 218
   },
   "outputs": [
    {
     "name": "stdout",
     "output_type": "stream",
     "text": [
      "{'Arrival': 'July-01', 'Departure': 'July-08', 'City': 'New York', 'Country': 'USA'}\n",
      "{'Arrival': 'July-09', 'Departure': 'July-16', 'City': 'Rio de Janeiro', 'Country': 'Brazil'}\n",
      "{'Arrival': 'July-17', 'Departure': 'July-24', 'City': 'Cape Town', 'Country': 'South Africa'}\n",
      "{'Arrival': 'July-25', 'Departure': 'August-01', 'City': 'Istanbul', 'Country': 'Turkey'}\n",
      "{'Arrival': 'August-02', 'Departure': 'August-09', 'City': 'Paris', 'Country': 'France'}\n",
      "{'Arrival': 'August-10', 'Departure': 'August-17', 'City': 'Tokyo', 'Country': 'Japan'}\n",
      "{'Arrival': 'August-18', 'Departure': 'August-25', 'City': 'Sydney', 'Country': 'Australia'}\n"
     ]
    },
    {
     "ename": "ValueError",
     "evalue": "I/O operation on closed file.",
     "output_type": "error",
     "traceback": [
      "\u001b[0;31m---------------------------------------------------------------------------\u001b[0m",
      "\u001b[0;31mValueError\u001b[0m                                Traceback (most recent call last)",
      "Cell \u001b[0;32mIn[54], line 10\u001b[0m\n\u001b[1;32m      7\u001b[0m f\u001b[38;5;241m.\u001b[39mclose()\n\u001b[1;32m      9\u001b[0m \u001b[38;5;66;03m# Complete the next two lines to print the country:\u001b[39;00m\n\u001b[0;32m---> 10\u001b[0m \u001b[38;5;28;01mfor\u001b[39;00m trip_stop \u001b[38;5;129;01min\u001b[39;00m csv_reader :\n\u001b[1;32m     11\u001b[0m     \u001b[38;5;28mprint\u001b[39m(trip_stop[\u001b[38;5;124m'\u001b[39m\u001b[38;5;124mBrazil\u001b[39m\u001b[38;5;124m'\u001b[39m])\n",
      "File \u001b[0;32m/usr/local/lib/python3.9/csv.py:111\u001b[0m, in \u001b[0;36mDictReader.__next__\u001b[0;34m(self)\u001b[0m\n\u001b[1;32m    108\u001b[0m \u001b[38;5;28;01mif\u001b[39;00m \u001b[38;5;28mself\u001b[39m\u001b[38;5;241m.\u001b[39mline_num \u001b[38;5;241m==\u001b[39m \u001b[38;5;241m0\u001b[39m:\n\u001b[1;32m    109\u001b[0m     \u001b[38;5;66;03m# Used only for its side effect.\u001b[39;00m\n\u001b[1;32m    110\u001b[0m     \u001b[38;5;28mself\u001b[39m\u001b[38;5;241m.\u001b[39mfieldnames\n\u001b[0;32m--> 111\u001b[0m row \u001b[38;5;241m=\u001b[39m \u001b[38;5;28;43mnext\u001b[39;49m\u001b[43m(\u001b[49m\u001b[38;5;28;43mself\u001b[39;49m\u001b[38;5;241;43m.\u001b[39;49m\u001b[43mreader\u001b[49m\u001b[43m)\u001b[49m\n\u001b[1;32m    112\u001b[0m \u001b[38;5;28mself\u001b[39m\u001b[38;5;241m.\u001b[39mline_num \u001b[38;5;241m=\u001b[39m \u001b[38;5;28mself\u001b[39m\u001b[38;5;241m.\u001b[39mreader\u001b[38;5;241m.\u001b[39mline_num\n\u001b[1;32m    114\u001b[0m \u001b[38;5;66;03m# unlike the basic reader, we prefer not to return blanks,\u001b[39;00m\n\u001b[1;32m    115\u001b[0m \u001b[38;5;66;03m# because we will typically wind up with a dict full of None\u001b[39;00m\n\u001b[1;32m    116\u001b[0m \u001b[38;5;66;03m# values\u001b[39;00m\n",
      "\u001b[0;31mValueError\u001b[0m: I/O operation on closed file."
     ]
    }
   ],
   "source": [
    "f = open(\"itinerary.csv\", \"r\")\n",
    "csv_reader = csv.DictReader(f)\n",
    "itinerary = []\n",
    "for row in csv_reader:\n",
    "    print(row)\n",
    "    itinerary.append(row)\n",
    "f.close()\n",
    "\n",
    "# Complete the next two lines to print the country:\n",
    "for trip_stop in csv_reader :\n",
    "    print(trip_stop['Brazil'])"
   ]
  }
 ],
 "metadata": {
  "kernelspec": {
   "display_name": "Python 3 (ipykernel)",
   "language": "python",
   "name": "python3"
  },
  "language_info": {
   "codemirror_mode": {
    "name": "ipython",
    "version": 3
   },
   "file_extension": ".py",
   "mimetype": "text/x-python",
   "name": "python",
   "nbconvert_exporter": "python",
   "pygments_lexer": "ipython3",
   "version": "3.9.19"
  }
 },
 "nbformat": 4,
 "nbformat_minor": 2
}
